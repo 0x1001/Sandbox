{
 "cells": [
  {
   "cell_type": "code",
   "execution_count": 1,
   "metadata": {
    "collapsed": false
   },
   "outputs": [],
   "source": [
    "from scipy.io import wavfile\n",
    "from numpy import fft\n",
    "import numpy\n",
    "from matplotlib import pyplot"
   ]
  },
  {
   "cell_type": "markdown",
   "metadata": {},
   "source": [
    "# Finger print creation"
   ]
  },
  {
   "cell_type": "code",
   "execution_count": 2,
   "metadata": {
    "collapsed": false
   },
   "outputs": [],
   "source": [
    "header, data = wavfile.read(\"samples/rec_20150408-1239.wav\")"
   ]
  },
  {
   "cell_type": "code",
   "execution_count": 59,
   "metadata": {
    "collapsed": false
   },
   "outputs": [],
   "source": [
    "#pyplot.plot(data)\n",
    "#pyplot.show()\n",
    "#pyplot.close()"
   ]
  },
  {
   "cell_type": "code",
   "execution_count": 5,
   "metadata": {
    "collapsed": false
   },
   "outputs": [],
   "source": [
    "sp = fft.fft(data)\n",
    "freq = fft.fftfreq(data.shape[-1])"
   ]
  },
  {
   "cell_type": "code",
   "execution_count": 15,
   "metadata": {
    "collapsed": true
   },
   "outputs": [],
   "source": [
    "#pyplot.plot(freq, sp.real)\n",
    "#pyplot.show()\n",
    "#pyplot.close()"
   ]
  },
  {
   "cell_type": "code",
   "execution_count": 6,
   "metadata": {
    "collapsed": false
   },
   "outputs": [],
   "source": [
    "amp = sp.real\n",
    "dom = freq\n",
    "\n",
    "to_delete = []\n",
    "for i in range(len(amp)):\n",
    "    if dom[i] < 0 or amp[i] < 0:\n",
    "        to_delete.append(i)\n",
    "\n",
    "amp = numpy.delete(amp, to_delete)\n",
    "dom = numpy.delete(dom, to_delete)"
   ]
  },
  {
   "cell_type": "code",
   "execution_count": 27,
   "metadata": {
    "collapsed": true
   },
   "outputs": [],
   "source": [
    "#pyplot.plot(dom, amp)\n",
    "#pyplot.show()\n",
    "#pyplot.close()"
   ]
  },
  {
   "cell_type": "code",
   "execution_count": 8,
   "metadata": {
    "collapsed": false
   },
   "outputs": [],
   "source": [
    "data = zip(dom, amp)\n",
    "data.sort(key=lambda x: x[1], reverse=True)\n",
    "finger_print = data[:100]"
   ]
  },
  {
   "cell_type": "markdown",
   "metadata": {
    "collapsed": true
   },
   "source": [
    "# Finger print matching"
   ]
  },
  {
   "cell_type": "code",
   "execution_count": 126,
   "metadata": {
    "collapsed": false
   },
   "outputs": [],
   "source": [
    "_, data_2 = wavfile.read(\"samples/_rec_20150407-1700.wav\")"
   ]
  },
  {
   "cell_type": "code",
   "execution_count": 127,
   "metadata": {
    "collapsed": true
   },
   "outputs": [],
   "source": [
    "sp = fft.fft(data_2)\n",
    "freq = fft.fftfreq(data_2.shape[-1])"
   ]
  },
  {
   "cell_type": "code",
   "execution_count": 128,
   "metadata": {
    "collapsed": true
   },
   "outputs": [],
   "source": [
    "amp = sp.real\n",
    "dom = freq\n",
    "\n",
    "to_delete = []\n",
    "for i in range(len(amp)):\n",
    "    if dom[i] < 0 or amp[i] < 0:\n",
    "        to_delete.append(i)\n",
    "\n",
    "amp = numpy.delete(amp, to_delete)\n",
    "dom = numpy.delete(dom, to_delete)\n",
    "\n",
    "data = zip(dom, amp)\n",
    "data.sort(key=lambda x: x[1], reverse=True)\n",
    "finger_print_2 = data[:100]"
   ]
  },
  {
   "cell_type": "markdown",
   "metadata": {},
   "source": [
    "## Compare"
   ]
  },
  {
   "cell_type": "code",
   "execution_count": 129,
   "metadata": {
    "collapsed": false
   },
   "outputs": [
    {
     "name": "stdout",
     "output_type": "stream",
     "text": [
      "35\n"
     ]
    }
   ],
   "source": [
    "ERROR = 0.002\n",
    "match = 0\n",
    "for f in finger_print:\n",
    "    for s in finger_print_2:\n",
    "        if s[0]>= f[0]- ERROR and s[0]<= f[0]+ ERROR:\n",
    "            match += 1\n",
    "            break\n",
    "            \n",
    "print match"
   ]
  }
 ],
 "metadata": {
  "kernelspec": {
   "display_name": "Python 2",
   "language": "python",
   "name": "python2"
  },
  "language_info": {
   "codemirror_mode": {
    "name": "ipython",
    "version": 2
   },
   "file_extension": ".py",
   "mimetype": "text/x-python",
   "name": "python",
   "nbconvert_exporter": "python",
   "pygments_lexer": "ipython2",
   "version": "2.7.6"
  }
 },
 "nbformat": 4,
 "nbformat_minor": 0
}
