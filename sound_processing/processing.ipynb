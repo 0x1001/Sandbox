{
 "cells": [
  {
   "cell_type": "markdown",
   "metadata": {},
   "source": [
    "# Finger print audio files\n",
    "\n",
    "Idea behind this is to do FFT of a wave and save as a finger print freqencies that have the highest amplitude (occur the most).\n",
    "\n",
    "Comparing two wave files in this case is actually comparing most sygnificant frequencies that appear in both wave files with certain error."
   ]
  },
  {
   "cell_type": "code",
   "execution_count": 130,
   "metadata": {
    "collapsed": false
   },
   "outputs": [],
   "source": [
    "from scipy.io import wavfile\n",
    "from numpy import fft\n",
    "import numpy\n",
    "from matplotlib import pyplot"
   ]
  },
  {
   "cell_type": "code",
   "execution_count": 131,
   "metadata": {
    "collapsed": false
   },
   "outputs": [],
   "source": [
    "header, data = wavfile.read(\"samples/rec_20150408-1239.wav\")"
   ]
  },
  {
   "cell_type": "code",
   "execution_count": 132,
   "metadata": {
    "collapsed": false
   },
   "outputs": [],
   "source": [
    "#pyplot.plot(data)\n",
    "#pyplot.show()\n",
    "#pyplot.close()"
   ]
  },
  {
   "cell_type": "code",
   "execution_count": 133,
   "metadata": {
    "collapsed": false
   },
   "outputs": [],
   "source": [
    "sp = fft.fft(data)\n",
    "freq = fft.fftfreq(data.shape[-1])"
   ]
  },
  {
   "cell_type": "code",
   "execution_count": 134,
   "metadata": {
    "collapsed": true
   },
   "outputs": [],
   "source": [
    "#pyplot.plot(freq, sp.real)\n",
    "#pyplot.show()\n",
    "#pyplot.close()"
   ]
  },
  {
   "cell_type": "code",
   "execution_count": 135,
   "metadata": {
    "collapsed": false
   },
   "outputs": [],
   "source": [
    "amp = sp.real\n",
    "dom = freq\n",
    "\n",
    "to_delete = []\n",
    "for i in range(len(amp)):\n",
    "    if dom[i] < 0 or amp[i] < 0:\n",
    "        to_delete.append(i)\n",
    "\n",
    "amp = numpy.delete(amp, to_delete)\n",
    "dom = numpy.delete(dom, to_delete)"
   ]
  },
  {
   "cell_type": "code",
   "execution_count": 136,
   "metadata": {
    "collapsed": true
   },
   "outputs": [],
   "source": [
    "#pyplot.plot(dom, amp)\n",
    "#pyplot.show()\n",
    "#pyplot.close()"
   ]
  },
  {
   "cell_type": "code",
   "execution_count": 137,
   "metadata": {
    "collapsed": false
   },
   "outputs": [],
   "source": [
    "data = zip(dom, amp)\n",
    "data.sort(key=lambda x: x[1], reverse=True)\n",
    "finger_print = data[:100]"
   ]
  },
  {
   "cell_type": "markdown",
   "metadata": {
    "collapsed": true
   },
   "source": [
    "# Finger print matching"
   ]
  },
  {
   "cell_type": "code",
   "execution_count": 138,
   "metadata": {
    "collapsed": false
   },
   "outputs": [],
   "source": [
    "_, data_2 = wavfile.read(\"samples/_rec_20150407-1700.wav\")"
   ]
  },
  {
   "cell_type": "code",
   "execution_count": 139,
   "metadata": {
    "collapsed": true
   },
   "outputs": [],
   "source": [
    "sp = fft.fft(data_2)\n",
    "freq = fft.fftfreq(data_2.shape[-1])"
   ]
  },
  {
   "cell_type": "code",
   "execution_count": 140,
   "metadata": {
    "collapsed": true
   },
   "outputs": [],
   "source": [
    "amp = sp.real\n",
    "dom = freq\n",
    "\n",
    "to_delete = []\n",
    "for i in range(len(amp)):\n",
    "    if dom[i] < 0 or amp[i] < 0:\n",
    "        to_delete.append(i)\n",
    "\n",
    "amp = numpy.delete(amp, to_delete)\n",
    "dom = numpy.delete(dom, to_delete)\n",
    "\n",
    "data = zip(dom, amp)\n",
    "data.sort(key=lambda x: x[1], reverse=True)\n",
    "finger_print_2 = data[:100]"
   ]
  },
  {
   "cell_type": "markdown",
   "metadata": {},
   "source": [
    "## Compare"
   ]
  },
  {
   "cell_type": "code",
   "execution_count": 142,
   "metadata": {
    "collapsed": false
   },
   "outputs": [
    {
     "name": "stdout",
     "output_type": "stream",
     "text": [
      "52\n"
     ]
    }
   ],
   "source": [
    "ERROR = 0.002\n",
    "match = 0\n",
    "for f in finger_print:\n",
    "    for s in finger_print_2:\n",
    "        if s[0]>= f[0]- ERROR and s[0]<= f[0]+ ERROR:\n",
    "            match += 1\n",
    "            break\n",
    "            \n",
    "print match"
   ]
  },
  {
   "cell_type": "code",
   "execution_count": null,
   "metadata": {
    "collapsed": true
   },
   "outputs": [],
   "source": []
  }
 ],
 "metadata": {
  "kernelspec": {
   "display_name": "Python 2",
   "language": "python",
   "name": "python2"
  },
  "language_info": {
   "codemirror_mode": {
    "name": "ipython",
    "version": 2
   },
   "file_extension": ".py",
   "mimetype": "text/x-python",
   "name": "python",
   "nbconvert_exporter": "python",
   "pygments_lexer": "ipython2",
   "version": "2.7.6"
  }
 },
 "nbformat": 4,
 "nbformat_minor": 0
}
